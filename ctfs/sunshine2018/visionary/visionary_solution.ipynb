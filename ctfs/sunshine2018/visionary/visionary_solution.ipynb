{
  "cells": [
    {
      "cell_type": "code",
      "source": [
        "import tsv\n",
        "import numpy as N\n",
        "\n",
        "f1 = open(\"Cipher1.txt\")\n",
        "ciphertext = f1.read()\n",
        "\n",
        "f2 = open(\"Plaintext1.txt\")\n",
        "plaintext = f2.read()\n",
        "\n",
        "print(ciphertext)\n",
        "\n",
        "reader = tsv.TsvReader(open(\"table.tsv\"))\n",
        "\n",
        "table = []\n",
        "for part in reader:\n",
        "    table.append(list(part))\n",
        "i = 0\n",
        "for row in table:\n",
        "    table[i]=list(row)\n",
        "    i+=1\n",
        "for row in table:\n",
        "    row = row[0]\n",
        "xalphabet = table[0][0]\n",
        "yalphabet = []\n",
        "for row in table:\n",
        "    yalphabet.append(row[0][0])\n",
        "xpos = 0\n",
        "ypos = 0\n",
        "textpos = 0\n",
        "possible_key = \"\"\n",
        "table = N.array(table)"
      ],
      "outputs": [
        {
          "output_type": "stream",
          "name": "stdout",
          "text": [
            "6(#KM5_3KYG^~]O\"9q#O4KLsbE{_yri|6(5SDjll`%J:WEs6q-WETYtwSqD#%](D\"*O0W3YIL]&Yls(#\"^8RV}[8v}4g]uI94M>o.SIJUMu?gD$)`@NVpL:~R&xYs6(~V:c[K(=H8VSs<w5b:NTuN@{]{tgBUk0c0WAQj7V*hSBUqgS0C\\}a<\"fwwT*Dy3W?$O5eEH.n?%L\"~U:RY;LGzR\"~T/D)~d6hHYU;QMu ??Y\"W=?0p_E{Xw'\n",
            "\n"
          ]
        }
      ],
      "execution_count": 1,
      "metadata": {
        "collapsed": false,
        "outputHidden": false,
        "inputHidden": false
      }
    },
    {
      "cell_type": "code",
      "source": [
        "# find the key #\n",
        "key_candidate = \"\"\n",
        "for pt_char in plaintext:\n",
        "    for row_char in yalphabet:\n",
        "        if pt_char == row_char:\n",
        "#             print(pt_char, \"found on row\",ypos)\n",
        "            ct_char = ciphertext[textpos]\n",
        "            ct_alphabet = table[ypos][0]\n",
        "            for col_char in ct_alphabet:\n",
        "                if col_char == ct_char:\n",
        "#                     print(\"ciphertext encoded char\",ct_char,\"found in col\",xpos)\n",
        "                    keystream_ltr = xalphabet[xpos-2]\n",
        "#                     print(\"corresponding to\",keystream_ltr)\n",
        "                    key_candidate += keystream_ltr\n",
        "                xpos+=1\n",
        "            xpos=0\n",
        "        ypos+=1\n",
        "    textpos+=1\n",
        "    ypos = 0\n",
        "print(key_candidate)"
      ],
      "outputs": [
        {
          "output_type": "stream",
          "name": "stdout",
          "text": [
            "5T3@mPuNk_Wh@t_5T3@mP_l0lR3p34t5T3@mPuNk_Wh@t_5T3@mP_l0lR3p34t5T3@mPuNk_Wh@t_5T3@mP_l0lR3p34t5T3@mPuNk_Wh@t_5T3@mP_l0lR3p34t5T3@mPuNk_Wh@t_5T3@mP_l0lR3p34t5T3@mPuNk_Wh@t_5T3@mP_l0lR3p34t5T3@mPuNk_Wh@t_5T3@mP_l0lR3p34t5T3@mPuNk_Wh@t3@mP_l0lR3p34\n"
          ]
        }
      ],
      "execution_count": 2,
      "metadata": {
        "collapsed": false,
        "outputHidden": false,
        "inputHidden": false
      }
    },
    {
      "cell_type": "code",
      "source": [
        "# deciphering proof of concept #\n",
        "xpos = 0\n",
        "ypos = 0\n",
        "textpos = 0\n",
        "keystream = key_candidate\n",
        "decrypted = \"\"\n",
        "for keystream_ltr in keystream:\n",
        "    ct_letter = ciphertext[textpos]\n",
        "    for row_char in xalphabet:\n",
        "        if row_char == keystream_ltr:\n",
        "#             print(\"keystream letter\",keystream_ltr,\"found on row\",xpos)\n",
        "            break\n",
        "        xpos+=1\n",
        "    for row in table:\n",
        "        if ypos == 0:\n",
        "            pass\n",
        "        elif row[0][xpos+2] == ct_letter:\n",
        "#             print(\"char\",ct_letter,\"found on row\",ypos,\"... the PT letter is\",row[0][0])\n",
        "            decrypted += row[0][0]\n",
        "            break\n",
        "        ypos+=1\n",
        "    xpos = 0\n",
        "    ypos = 0\n",
        "    textpos+=1\n",
        "print(\"Our decrypted plaintext:\")\n",
        "print(decrypted)\n",
        "print(\"Original plaintext:\")\n",
        "print(plaintext)"
      ],
      "outputs": [
        {
          "output_type": "stream",
          "name": "stdout",
          "text": [
            "Our decrypted plaintext:\n",
            "\"So,_did_you_hold_back_during_thattest?\"\"Maybe_a_little,\"_Sophronia_admitted._Soapgrinned.\"That's_my_girl.\"_Sophronia_glared_at_him._He_was_gettingfamiliar.\"You_are,_miss.\"_He_continued_togrin.\"I'm_my_own_girl,_thank_you_verymuch.\"~Q*Bj.R]^n3h\n",
            "Original plaintext:\n",
            "\"So,_did_you_hold_back_during_thattest?\"\"Maybe_a_little,\"_Sophronia_admitted._Soapgrinned.\"That's_my_girl.\"_Sophronia_glared_at_him._He_was_gettingfamiliar.\"You_are,_miss.\"_He_continued_togrin.\"I'm_my_own_girl,_thank_you_verymuch.\"â€•Gail_Carriger\n",
            "\n"
          ]
        }
      ],
      "execution_count": 3,
      "metadata": {
        "collapsed": false,
        "outputHidden": false,
        "inputHidden": false
      }
    },
    {
      "cell_type": "code",
      "source": [
        "# break the flag #\n",
        "\n",
        "f1.close()\n",
        "f2.close()\n",
        "\n",
        "f1 = open(\"cipherFlag.txt\")\n",
        "ciphertext = f1.read()\n",
        "\n",
        "ct_size = len(ciphertext)\n",
        "\n",
        "xpos = 0\n",
        "ypos = 0\n",
        "textpos = 0\n",
        "keystream = key_candidate\n",
        "decrypted = \"\"\n",
        "for keystream_ltr in keystream:\n",
        "    if ct_size > textpos:\n",
        "        ct_letter = ciphertext[textpos]\n",
        "        for row_char in xalphabet:\n",
        "            if row_char == keystream_ltr:\n",
        "    #             print(\"keystream letter\",keystream_ltr,\"found on row\",xpos)\n",
        "                break\n",
        "            xpos+=1\n",
        "        for row in table:\n",
        "            if ypos == 0:\n",
        "                pass\n",
        "            elif row[0][xpos+2] == ct_letter:\n",
        "    #             print(\"char\",ct_letter,\"found on row\",ypos,\"... the PT letter is\",row[0][0])\n",
        "                decrypted += row[0][0]\n",
        "                break\n",
        "            ypos+=1\n",
        "        xpos = 0\n",
        "        ypos = 0\n",
        "        textpos+=1\n",
        "print(\"Our decrypted plaintext:\")\n",
        "print(decrypted)\n",
        "    \n",
        "f1.close()"
      ],
      "outputs": [
        {
          "output_type": "stream",
          "name": "stdout",
          "text": [
            "Our decrypted plaintext:\n",
            "sun{Why_would_Any0n3_use_A_T@bl3_tH@t_LaRg3}\n"
          ]
        }
      ],
      "execution_count": 4,
      "metadata": {
        "collapsed": false,
        "outputHidden": false,
        "inputHidden": false
      }
    }
  ],
  "metadata": {
    "kernel_info": {
      "name": "python3"
    },
    "kernelspec": {
      "name": "python3",
      "language": "python",
      "display_name": "Python 3"
    },
    "nteract": {
      "version": "0.8.4"
    },
    "language_info": {
      "name": "python",
      "version": "3.6.5",
      "mimetype": "text/x-python",
      "codemirror_mode": {
        "name": "ipython",
        "version": 3
      },
      "pygments_lexer": "ipython3",
      "nbconvert_exporter": "python",
      "file_extension": ".py"
    }
  },
  "nbformat": 4,
  "nbformat_minor": 4
}